{
 "cells": [
  {
   "cell_type": "markdown",
   "id": "0495db75",
   "metadata": {},
   "source": [
    "#### Language Translator"
   ]
  },
  {
   "cell_type": "code",
   "execution_count": 1,
   "id": "730b81ce",
   "metadata": {},
   "outputs": [
    {
     "ename": "KeyboardInterrupt",
     "evalue": "Interrupted by user",
     "output_type": "error",
     "traceback": [
      "\u001b[1;31m---------------------------------------------------------------------------\u001b[0m",
      "\u001b[1;31mKeyboardInterrupt\u001b[0m                         Traceback (most recent call last)",
      "Cell \u001b[1;32mIn[1], line 17\u001b[0m\n\u001b[0;32m      2\u001b[0m trans_dict \u001b[38;5;241m=\u001b[39m {\n\u001b[0;32m      3\u001b[0m     \u001b[38;5;124m\"\u001b[39m\u001b[38;5;124mstar\u001b[39m\u001b[38;5;124m\"\u001b[39m: \u001b[38;5;124m\"\u001b[39m\u001b[38;5;124mStern\u001b[39m\u001b[38;5;124m\"\u001b[39m,\n\u001b[0;32m      4\u001b[0m     \u001b[38;5;124m\"\u001b[39m\u001b[38;5;124mplanet\u001b[39m\u001b[38;5;124m\"\u001b[39m: \u001b[38;5;124m\"\u001b[39m\u001b[38;5;124mPlanet\u001b[39m\u001b[38;5;124m\"\u001b[39m,\n\u001b[1;32m   (...)\u001b[0m\n\u001b[0;32m     12\u001b[0m     \u001b[38;5;124m\"\u001b[39m\u001b[38;5;124mblack hole\u001b[39m\u001b[38;5;124m\"\u001b[39m: \u001b[38;5;124m\"\u001b[39m\u001b[38;5;124mSchwarzes Loch\u001b[39m\u001b[38;5;124m\"\u001b[39m\n\u001b[0;32m     13\u001b[0m }\n\u001b[0;32m     15\u001b[0m \u001b[38;5;28;01mwhile\u001b[39;00m \u001b[38;5;28;01mTrue\u001b[39;00m:\n\u001b[0;32m     16\u001b[0m     \u001b[38;5;66;03m# Input English word to translate\u001b[39;00m\n\u001b[1;32m---> 17\u001b[0m     word \u001b[38;5;241m=\u001b[39m \u001b[38;5;28minput\u001b[39m(\u001b[38;5;124m\"\u001b[39m\u001b[38;5;124mEnter an English word to translate (or 0 to exit): \u001b[39m\u001b[38;5;124m\"\u001b[39m)\u001b[38;5;241m.\u001b[39mlower()\n\u001b[0;32m     19\u001b[0m     \u001b[38;5;28;01mif\u001b[39;00m word \u001b[38;5;241m==\u001b[39m \u001b[38;5;124m\"\u001b[39m\u001b[38;5;124m0\u001b[39m\u001b[38;5;124m\"\u001b[39m:\n\u001b[0;32m     20\u001b[0m         \u001b[38;5;28;01mbreak\u001b[39;00m \n",
      "File \u001b[1;32mC:\\ProgramData\\anaconda3\\Lib\\site-packages\\ipykernel\\kernelbase.py:1175\u001b[0m, in \u001b[0;36mKernel.raw_input\u001b[1;34m(self, prompt)\u001b[0m\n\u001b[0;32m   1171\u001b[0m \u001b[38;5;28;01mif\u001b[39;00m \u001b[38;5;129;01mnot\u001b[39;00m \u001b[38;5;28mself\u001b[39m\u001b[38;5;241m.\u001b[39m_allow_stdin:\n\u001b[0;32m   1172\u001b[0m     \u001b[38;5;28;01mraise\u001b[39;00m StdinNotImplementedError(\n\u001b[0;32m   1173\u001b[0m         \u001b[38;5;124m\"\u001b[39m\u001b[38;5;124mraw_input was called, but this frontend does not support input requests.\u001b[39m\u001b[38;5;124m\"\u001b[39m\n\u001b[0;32m   1174\u001b[0m     )\n\u001b[1;32m-> 1175\u001b[0m \u001b[38;5;28;01mreturn\u001b[39;00m \u001b[38;5;28mself\u001b[39m\u001b[38;5;241m.\u001b[39m_input_request(\n\u001b[0;32m   1176\u001b[0m     \u001b[38;5;28mstr\u001b[39m(prompt),\n\u001b[0;32m   1177\u001b[0m     \u001b[38;5;28mself\u001b[39m\u001b[38;5;241m.\u001b[39m_parent_ident[\u001b[38;5;124m\"\u001b[39m\u001b[38;5;124mshell\u001b[39m\u001b[38;5;124m\"\u001b[39m],\n\u001b[0;32m   1178\u001b[0m     \u001b[38;5;28mself\u001b[39m\u001b[38;5;241m.\u001b[39mget_parent(\u001b[38;5;124m\"\u001b[39m\u001b[38;5;124mshell\u001b[39m\u001b[38;5;124m\"\u001b[39m),\n\u001b[0;32m   1179\u001b[0m     password\u001b[38;5;241m=\u001b[39m\u001b[38;5;28;01mFalse\u001b[39;00m,\n\u001b[0;32m   1180\u001b[0m )\n",
      "File \u001b[1;32mC:\\ProgramData\\anaconda3\\Lib\\site-packages\\ipykernel\\kernelbase.py:1217\u001b[0m, in \u001b[0;36mKernel._input_request\u001b[1;34m(self, prompt, ident, parent, password)\u001b[0m\n\u001b[0;32m   1214\u001b[0m             \u001b[38;5;28;01mbreak\u001b[39;00m\n\u001b[0;32m   1215\u001b[0m \u001b[38;5;28;01mexcept\u001b[39;00m \u001b[38;5;167;01mKeyboardInterrupt\u001b[39;00m:\n\u001b[0;32m   1216\u001b[0m     \u001b[38;5;66;03m# re-raise KeyboardInterrupt, to truncate traceback\u001b[39;00m\n\u001b[1;32m-> 1217\u001b[0m     \u001b[38;5;28;01mraise\u001b[39;00m \u001b[38;5;167;01mKeyboardInterrupt\u001b[39;00m(\u001b[38;5;124m\"\u001b[39m\u001b[38;5;124mInterrupted by user\u001b[39m\u001b[38;5;124m\"\u001b[39m) \u001b[38;5;28;01mfrom\u001b[39;00m \u001b[38;5;28;01mNone\u001b[39;00m\n\u001b[0;32m   1218\u001b[0m \u001b[38;5;28;01mexcept\u001b[39;00m \u001b[38;5;167;01mException\u001b[39;00m:\n\u001b[0;32m   1219\u001b[0m     \u001b[38;5;28mself\u001b[39m\u001b[38;5;241m.\u001b[39mlog\u001b[38;5;241m.\u001b[39mwarning(\u001b[38;5;124m\"\u001b[39m\u001b[38;5;124mInvalid Message:\u001b[39m\u001b[38;5;124m\"\u001b[39m, exc_info\u001b[38;5;241m=\u001b[39m\u001b[38;5;28;01mTrue\u001b[39;00m)\n",
      "\u001b[1;31mKeyboardInterrupt\u001b[0m: Interrupted by user"
     ]
    }
   ],
   "source": [
    "#Translation dictionary English to German\n",
    "trans_dict = {\n",
    "    \"star\": \"Stern\",\n",
    "    \"planet\": \"Planet\",\n",
    "    \"galaxy\": \"Galaxie\",\n",
    "    \"comet\": \"Komet\",\n",
    "    \"telescope\": \"Teleskop\",\n",
    "    \"astronomer\": \"Astronom\",\n",
    "    \"constellation\": \"Sternbild\",\n",
    "    \"orbit\": \"Umlaufbahn\",\n",
    "    \"nebula\": \"Nebel\",\n",
    "    \"black hole\": \"Schwarzes Loch\"\n",
    "}\n",
    "\n",
    "while True:\n",
    "    # Input English word to translate\n",
    "    word = input(\"Enter an English word to translate (or 0 to exit): \").lower()\n",
    "    \n",
    "    if word == \"0\":\n",
    "        break \n",
    "    \n",
    "    # Check the word if it's in the dictionary.\n",
    "    translation = trans_dict.get(word, \"Word not found in the dictionary\")\n",
    "    print(f\"Translation: {translation}\")\n"
   ]
  },
  {
   "cell_type": "markdown",
   "id": "28564d8d",
   "metadata": {},
   "source": [
    "#### Temp Converter"
   ]
  },
  {
   "cell_type": "code",
   "execution_count": 10,
   "id": "9d6dd4cf",
   "metadata": {},
   "outputs": [
    {
     "name": "stdout",
     "output_type": "stream",
     "text": [
      "Day 1: 27.78°C\n",
      "Day 2: 31.11°C\n",
      "Day 3: 32.22°C\n",
      "Day 4: 32.22°C\n",
      "Day 5: 32.22°C\n",
      "Day 6: 28.89°C\n",
      "Day 7: 23.89°C\n",
      "Day 8: 23.89°C\n",
      "Day 9: 23.89°C\n",
      "Day 10: 26.11°C\n",
      "Day 11: 27.78°C\n",
      "Day 12: 22.78°C\n",
      "Day 13: 25.00°C\n",
      "Day 14: 26.11°C\n",
      "Day 15: 25.00°C\n",
      "Day 16: 26.11°C\n",
      "Day 17: 23.89°C\n",
      "Day 18: 23.89°C\n",
      "Day 19: 25.00°C\n",
      "Day 20: 27.78°C\n",
      "Day 21: 27.78°C\n",
      "Day 22: 28.89°C\n",
      "Day 23: 27.22°C\n",
      "Day 24: 27.22°C\n",
      "Day 25: 27.78°C\n",
      "Day 26: 28.89°C\n",
      "Day 27: 25.00°C\n",
      "Day 28: 25.00°C\n",
      "Day 29: 26.11°C\n",
      "Day 30: 27.78°C\n"
     ]
    }
   ],
   "source": [
    "#Create a dictionary with temperatures in Fahrenheit\n",
    "temp_dict = {\n",
    "    1: 82,\n",
    "    2: 88,\n",
    "    3: 90,\n",
    "    4: 90,\n",
    "    5: 90,\n",
    "    6: 84,\n",
    "    7: 75,\n",
    "    8: 75,\n",
    "    9: 75,\n",
    "    10: 79,\n",
    "    11: 82,\n",
    "    12: 73,\n",
    "    13: 77,\n",
    "    14: 79,\n",
    "    15: 77,\n",
    "    16: 79,\n",
    "    17: 75,\n",
    "    18: 75,\n",
    "    19: 77,\n",
    "    20: 82,\n",
    "    21: 82,\n",
    "    22: 84,\n",
    "    23: 81,\n",
    "    24: 81,\n",
    "    25: 82,\n",
    "    26: 84,\n",
    "    27: 77,\n",
    "    28: 77,\n",
    "    29: 79,\n",
    "    30: 82\n",
    "    \n",
    "}\n",
    "\n",
    "#Convert temps to Celsius and update the dictionary\n",
    "for day, temp_fahrenheit in temp_dict.items():\n",
    "    temp_celsius = (temp_fahrenheit - 32) * 5/9\n",
    "    temp_dict[day] = temp_celsius\n",
    "\n",
    "#Print the updated dictionary with temperatures in Celsius\n",
    "for day, temp_celsius in temp_dict.items():\n",
    "    print(f\"Day {day}: {temp_celsius:.2f}°C\")\n"
   ]
  },
  {
   "cell_type": "markdown",
   "id": "e0a0ec3f",
   "metadata": {},
   "source": [
    "#### Squared"
   ]
  },
  {
   "cell_type": "code",
   "execution_count": 2,
   "id": "b543f92a",
   "metadata": {},
   "outputs": [
    {
     "name": "stdout",
     "output_type": "stream",
     "text": [
      "{1: 1, 2: 4, 3: 9, 4: 16, 5: 25, 6: 36, 7: 49, 8: 64, 9: 81, 10: 100, 11: 121, 12: 144, 13: 169, 14: 196, 15: 225}\n"
     ]
    }
   ],
   "source": [
    "#Dictionary with keys as numbers and values as their squares\n",
    "square_dict = {key: key ** 2 for key in range(1, 16)}\n",
    "\n",
    "print(square_dict)\n"
   ]
  },
  {
   "cell_type": "markdown",
   "id": "c846051d",
   "metadata": {},
   "source": [
    "#### User Profile Dictionary"
   ]
  },
  {
   "cell_type": "code",
   "execution_count": 3,
   "id": "7def220f",
   "metadata": {},
   "outputs": [
    {
     "name": "stdout",
     "output_type": "stream",
     "text": [
      "Enter your name (or type 'exit' to quit): Justin\n",
      "Enter you're age: 27\n",
      "Enter you're email: jharlow3\n",
      "Enter you're city: Shambala\n",
      "Enter your name (or type 'exit' to quit): justin\n",
      "Enter you're age: exit\n",
      "Enter you're email: sfdg\n",
      "Enter you're city: safd\n",
      "Enter your name (or type 'exit' to quit): exit\n",
      "Enter a name to search for a profile: Justin\n",
      "Profile for Justin:\n",
      "Age: 27\n",
      "Email: jharlow3\n",
      "City: Shambala\n"
     ]
    }
   ],
   "source": [
    "#Empty dictionary to store profiles\n",
    "user_profiles = {}\n",
    "\n",
    "while True:\n",
    "    #Ask the user for info\n",
    "    name = input(\"Enter your name (or type 'exit' to quit): \")\n",
    "    \n",
    "    #Exit condition\n",
    "    if name.lower() == 'exit':\n",
    "        break\n",
    "    \n",
    "    age = input(\"Enter you're age: \")\n",
    "    email = input(\"Enter you're email: \")\n",
    "    city = input(\"Enter you're city: \")\n",
    "    \n",
    "    #Add the user's information to the dictionary\n",
    "    user_profiles[name] = {\n",
    "        \"Age\": age,\n",
    "        \"Email\": email,\n",
    "        \"City\": city\n",
    "        }\n",
    "\n",
    "#Search for a specific user's profile\n",
    "search_name = input(\"Enter a name to search for a profile: \")\n",
    "\n",
    "if search_name in user_profiles:\n",
    "    #Display user profile\n",
    "    profile = user_profiles[search_name]\n",
    "    print(f\"Profile for {search_name}:\")\n",
    "    for key, value in profile.items():\n",
    "        print(f\"{key}: {value}\")\n",
    "else:\n",
    "    print(f\"User '{search_name}' not found in the profiles.\")\n"
   ]
  },
  {
   "cell_type": "markdown",
   "id": "3b6b5a23",
   "metadata": {},
   "source": [
    "#### Justin Harlow, PA5, Fall 2023"
   ]
  },
  {
   "cell_type": "code",
   "execution_count": null,
   "id": "024ae621",
   "metadata": {},
   "outputs": [],
   "source": []
  }
 ],
 "metadata": {
  "kernelspec": {
   "display_name": "Python 3 (ipykernel)",
   "language": "python",
   "name": "python3"
  },
  "language_info": {
   "codemirror_mode": {
    "name": "ipython",
    "version": 3
   },
   "file_extension": ".py",
   "mimetype": "text/x-python",
   "name": "python",
   "nbconvert_exporter": "python",
   "pygments_lexer": "ipython3",
   "version": "3.11.4"
  }
 },
 "nbformat": 4,
 "nbformat_minor": 5
}
